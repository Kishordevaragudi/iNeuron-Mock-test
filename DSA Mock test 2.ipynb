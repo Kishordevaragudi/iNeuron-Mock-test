{
 "cells": [
  {
   "attachments": {},
   "cell_type": "markdown",
   "metadata": {},
   "source": [
    "Given a non-negative integer x, return the square root of x rounded down to the nearest integer. The returned integer should be non-negative as well. You must not use any built-in exponent function or operator. \n",
    "\n",
    " Example 1:\n",
    "Input: x = 4\n",
    "\n",
    "Output: 2 \n",
    "\n",
    "Explanation: The square root of 4 is 2, so we return 2.\n",
    "\n",
    "Example 2:\n",
    "\n",
    "Input: x = 8 \n",
    "\n",
    "Output: 2 \n",
    "\n",
    "Explanation: The square root of 8 is 2.82842..., and since we round it down to the nearest integer, 2 is returned.\n",
    "Constraints:\n",
    "\n",
    "0 <= x <= 2^31 - 1"
   ]
  },
  {
   "cell_type": "code",
   "execution_count": 1,
   "metadata": {},
   "outputs": [
    {
     "name": "stdout",
     "output_type": "stream",
     "text": [
      "2\n",
      "2\n"
     ]
    }
   ],
   "source": [
    "def mySqrt(x):\n",
    "    if x <= 1:\n",
    "        return x\n",
    "\n",
    "    left, right = 0, x\n",
    "    while left <= right:\n",
    "        mid = (left + right) // 2\n",
    "        if mid * mid == x:\n",
    "            return mid\n",
    "        elif mid * mid < x:\n",
    "            left = mid + 1\n",
    "        else:\n",
    "            right = mid - 1\n",
    "\n",
    "    return right\n",
    "\n",
    "# Test cases\n",
    "print(mySqrt(4))  # Output: 2\n",
    "print(mySqrt(8))  # Output: 2\n"
   ]
  },
  {
   "attachments": {},
   "cell_type": "markdown",
   "metadata": {},
   "source": [
    "You are given two non-empty linked lists representing two non-negative integers. The digits are stored in reverse order, and each of their nodes contains a single digit. Add the two numbers and return the sum as a linked list.\n",
    "\n",
    "You may assume the two numbers do not contain any leading zero, except the number 0 itself.\n",
    "\n",
    "\n",
    "Example 1:\n",
    "\n",
    "Input: l1 = [2,4,3], l2 = [5,6,4] Output: [7,0,8] Explanation: 342 + 465 = 807.\n",
    "\n",
    "Example 2:\n",
    "\n",
    "Input: l1 = [0], l2 = [0] Output: [0]\n",
    "\n",
    "Example 3:\n",
    "\n",
    "Input: l1 = [9,9,9,9,9,9,9], l2 = [9,9,9,9] Output: [8,9,9,9,0,0,0,1]\n",
    "\n",
    " \n",
    "\n",
    "Constraints:\n",
    "\n",
    "The number of nodes in each linked list is in the range [1, 100].\n",
    "0 <= Node.val <= 9 It is guaranteed that the list represents a number that does not have leading zeros.\n",
    "\n"
   ]
  },
  {
   "cell_type": "code",
   "execution_count": 2,
   "metadata": {},
   "outputs": [
    {
     "name": "stdout",
     "output_type": "stream",
     "text": [
      "[7, 0, 8]\n",
      "[0]\n",
      "[8, 9, 9, 9, 0, 0, 0, 1]\n"
     ]
    }
   ],
   "source": [
    "class ListNode:\n",
    "    def __init__(self, val=0, next=None):\n",
    "        self.val = val\n",
    "        self.next = next\n",
    "\n",
    "def addTwoNumbers(l1, l2):\n",
    "    dummy = ListNode(0)  # Dummy node to simplify the logic\n",
    "    curr = dummy  # Current node for constructing the result\n",
    "\n",
    "    carry = 0  # Carry value\n",
    "\n",
    "    while l1 or l2 or carry:\n",
    "        # Get the values of the current digits\n",
    "        val1 = l1.val if l1 else 0\n",
    "        val2 = l2.val if l2 else 0\n",
    "\n",
    "        # Calculate the sum and carry\n",
    "        total = val1 + val2 + carry\n",
    "        carry = total // 10\n",
    "        digit = total % 10\n",
    "\n",
    "        # Create a new node for the current digit\n",
    "        curr.next = ListNode(digit)\n",
    "        curr = curr.next\n",
    "\n",
    "        # Move to the next digits in the input lists\n",
    "        l1 = l1.next if l1 else None\n",
    "        l2 = l2.next if l2 else None\n",
    "\n",
    "    return dummy.next  # Return the head of the resulting linked list\n",
    "\n",
    "# Helper function to convert a list to a linked list\n",
    "def createLinkedList(lst):\n",
    "    dummy = ListNode(0)\n",
    "    curr = dummy\n",
    "    for val in lst:\n",
    "        curr.next = ListNode(val)\n",
    "        curr = curr.next\n",
    "    return dummy.next\n",
    "\n",
    "# Helper function to convert a linked list to a list\n",
    "def convertToList(node):\n",
    "    lst = []\n",
    "    while node:\n",
    "        lst.append(node.val)\n",
    "        node = node.next\n",
    "    return lst\n",
    "\n",
    "# Test cases\n",
    "l1 = createLinkedList([2, 4, 3])\n",
    "l2 = createLinkedList([5, 6, 4])\n",
    "result = addTwoNumbers(l1, l2)\n",
    "print(convertToList(result))  # Output: [7, 0, 8]\n",
    "\n",
    "l1 = createLinkedList([0])\n",
    "l2 = createLinkedList([0])\n",
    "result = addTwoNumbers(l1, l2)\n",
    "print(convertToList(result))  # Output: [0]\n",
    "\n",
    "l1 = createLinkedList([9, 9, 9, 9, 9, 9, 9])\n",
    "l2 = createLinkedList([9, 9, 9, 9])\n",
    "result = addTwoNumbers(l1, l2)\n",
    "print(convertToList(result))  # Output: [8, 9, 9, 9, 0, 0, 0, 1]\n"
   ]
  },
  {
   "attachments": {},
   "cell_type": "markdown",
   "metadata": {},
   "source": []
  }
 ],
 "metadata": {
  "kernelspec": {
   "display_name": "base",
   "language": "python",
   "name": "python3"
  },
  "language_info": {
   "codemirror_mode": {
    "name": "ipython",
    "version": 3
   },
   "file_extension": ".py",
   "mimetype": "text/x-python",
   "name": "python",
   "nbconvert_exporter": "python",
   "pygments_lexer": "ipython3",
   "version": "3.9.13"
  },
  "orig_nbformat": 4
 },
 "nbformat": 4,
 "nbformat_minor": 2
}
